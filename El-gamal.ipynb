{
 "cells": [
  {
   "cell_type": "code",
   "execution_count": 1,
   "metadata": {},
   "outputs": [],
   "source": [
    "def elgamal_encrypt(p, g, x, M, k):\n",
    "    \"\"\"\n",
    "    Enkripsi pesan menggunakan algoritme ElGamal\n",
    "    :param p: Modulo utama\n",
    "    :param g: Basis\n",
    "    :param x: Kunci privat\n",
    "    :param M: Pesan asli (integer)\n",
    "    :param k: Nilai acak untuk enkripsi\n",
    "    :return: (c1, c2), pasangan cipher\n",
    "    \"\"\"\n",
    "    # Kunci publik\n",
    "    y = pow(g, x, p)\n",
    "    \n",
    "    # Enkripsi\n",
    "    c1 = pow(g, k, p)\n",
    "    c2 = (M * pow(y, k, p)) % p\n",
    "    \n",
    "    return c1, c2"
   ]
  },
  {
   "cell_type": "code",
   "execution_count": 2,
   "metadata": {},
   "outputs": [],
   "source": [
    "p = 5\n",
    "g = 23\n",
    "x = 3  # Kunci privat\n",
    "k = 2  # Bilangan acak untuk enkripsi\n",
    "M = 21830608 % p  # Memastikan M < p"
   ]
  },
  {
   "cell_type": "code",
   "execution_count": 3,
   "metadata": {},
   "outputs": [],
   "source": [
    "c1, c2 = elgamal_encrypt(p, g, x, M, k)"
   ]
  },
  {
   "cell_type": "code",
   "execution_count": 4,
   "metadata": {},
   "outputs": [
    {
     "name": "stdout",
     "output_type": "stream",
     "text": [
      "Pesan asli: 3\n",
      "Hasil enkripsi: (c1, c2) = (4, 2)\n"
     ]
    }
   ],
   "source": [
    "print(f\"Pesan asli: {M}\")\n",
    "print(f\"Hasil enkripsi: (c1, c2) = ({c1}, {c2})\")"
   ]
  }
 ],
 "metadata": {
  "kernelspec": {
   "display_name": "Python 3",
   "language": "python",
   "name": "python3"
  },
  "language_info": {
   "codemirror_mode": {
    "name": "ipython",
    "version": 3
   },
   "file_extension": ".py",
   "mimetype": "text/x-python",
   "name": "python",
   "nbconvert_exporter": "python",
   "pygments_lexer": "ipython3",
   "version": "3.12.2"
  }
 },
 "nbformat": 4,
 "nbformat_minor": 2
}
