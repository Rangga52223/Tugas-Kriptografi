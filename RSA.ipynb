{
 "cells": [
  {
   "cell_type": "markdown",
   "metadata": {},
   "source": [
    "### Memasukan Pesan , Public Key dan Private Key"
   ]
  },
  {
   "cell_type": "code",
   "execution_count": 7,
   "metadata": {},
   "outputs": [],
   "source": [
    "e = 5  # public exponent\n",
    "d = 29  # private exponent\n",
    "n = 91  # modulus\n",
    "npm = \"21830608\"\n"
   ]
  },
  {
   "cell_type": "markdown",
   "metadata": {},
   "source": [
    "### Proses Enkripsi dan Dekripsi"
   ]
  },
  {
   "cell_type": "code",
   "execution_count": 8,
   "metadata": {},
   "outputs": [
    {
     "name": "stdout",
     "output_type": "stream",
     "text": [
      "Pesan: 21830608\n",
      "Enkripsi: [32, 1, 8, 61, 0, 41, 0, 8]\n",
      "Dekripsi: [2, 1, 8, 3, 0, 6, 0, 8]\n"
     ]
    }
   ],
   "source": [
    "message_blocks = [int(digit) for digit in npm]#Convert Pesan menjadi list integer\n",
    "encrypted_blocks = [pow(block, e, n) for block in message_blocks]#Enkripsi Pesan\n",
    "decrypted_blocks = [pow(block, d, n) for block in encrypted_blocks]#Dekripsi Pesan\n",
    "\n",
    "print(\"Pesan:\", npm)\n",
    "print(\"Enkripsi:\", encrypted_blocks)\n",
    "print(\"Dekripsi:\", decrypted_blocks)"
   ]
  }
 ],
 "metadata": {
  "kernelspec": {
   "display_name": "Python 3",
   "language": "python",
   "name": "python3"
  },
  "language_info": {
   "codemirror_mode": {
    "name": "ipython",
    "version": 3
   },
   "file_extension": ".py",
   "mimetype": "text/x-python",
   "name": "python",
   "nbconvert_exporter": "python",
   "pygments_lexer": "ipython3",
   "version": "3.12.2"
  }
 },
 "nbformat": 4,
 "nbformat_minor": 2
}
