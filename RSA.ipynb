{
 "cells": [
  {
   "cell_type": "markdown",
   "metadata": {},
   "source": [
    "### Import keseluruhan Package nya "
   ]
  },
  {
   "cell_type": "code",
   "execution_count": null,
   "metadata": {},
   "outputs": [],
   "source": []
  },
  {
   "cell_type": "markdown",
   "metadata": {},
   "source": [
    "### Membuat fungsi untuk enkripsi dan dekripsi"
   ]
  },
  {
   "cell_type": "code",
   "execution_count": 2,
   "metadata": {},
   "outputs": [],
   "source": [
    "# Fungsi Enkripsi\n",
    "def encrypt_rsa(message, public_key):\n",
    "    e, n = public_key\n",
    "    ciphertext = [pow(ord(char), e, n) for char in message]\n",
    "    return ciphertext\n",
    "\n",
    "# Fungsi Dekripsi\n",
    "def decrypt_rsa(ciphertext, private_key):\n",
    "    d, n = private_key\n",
    "    decrypted_message = ''.join([chr(pow(char, d, n)) for char in ciphertext])\n",
    "    return decrypted_message"
   ]
  },
  {
   "cell_type": "code",
   "execution_count": null,
   "metadata": {},
   "outputs": [],
   "source": []
  }
 ],
 "metadata": {
  "kernelspec": {
   "display_name": "Python 3",
   "language": "python",
   "name": "python3"
  },
  "language_info": {
   "codemirror_mode": {
    "name": "ipython",
    "version": 3
   },
   "file_extension": ".py",
   "mimetype": "text/x-python",
   "name": "python",
   "nbconvert_exporter": "python",
   "pygments_lexer": "ipython3",
   "version": "3.12.2"
  }
 },
 "nbformat": 4,
 "nbformat_minor": 2
}
